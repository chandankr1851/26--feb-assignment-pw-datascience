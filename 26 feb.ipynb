{
 "cells": [
  {
   "cell_type": "code",
   "execution_count": null,
   "id": "ea6fa9a2-71ee-433d-a020-12d3bdcd214c",
   "metadata": {},
   "outputs": [],
   "source": [
    "import numpy as np\n",
    "\n",
    "# Q1: Check if there's a difference in data type between list_ and array_list\n",
    "list_ = ['1', '2', '3', '4', '5']\n",
    "array_list = np.array(object=list_)\n",
    "\n",
    "if list_.dtype == array_list.dtype:\n",
    "    print(\"No difference in data type between list_ and array_list\")\n",
    "else:\n",
    "    print(f\"Data type of list_: {list_.dtype}\")\n",
    "    print(f\"Data type of array_list: {array_list.dtype}\")\n",
    "\n",
    "# Q2: Print the data type of each element in list_ and array_list\n",
    "for element in list_:\n",
    "    print(f\"Data type of element in list_: {type(element)}\")\n",
    "\n",
    "for element in array_list:\n",
    "    print(f\"Data type of element in array_list: {type(element)}\")\n",
    "\n",
    "# Q3: Change the data type of elements in array_list and print both list_ and array_list\n",
    "array_list = np.array(object=list_, dtype=int)\n",
    "\n",
    "for element in list_:\n",
    "    print(f\"Data type of element in list_: {type(element)}\")\n",
    "\n",
    "for element in array_list:\n",
    "    print(f\"Data type of element in array_list: {type(element)}\")\n",
    "\n",
    "    # Q4: Find characteristics of num_array\n",
    "import numpy as np\n",
    "\n",
    "num_list = [[1, 2, 3], [4, 5, 6]]\n",
    "num_array = np.array(object=num_list)\n",
    "\n",
    "# (i) shape\n",
    "print(\"Shape of num_array:\", num_array.shape)\n",
    "\n",
    "# (ii) size\n",
    "print(\"Size of num_array:\", num_array.size)\n",
    "\n",
    "# Q5: Create a 3x3 numpy array containing zeros\n",
    "zero_array = np.zeros((3, 3))\n",
    "print(\"3x3 Zero Array:\")\n",
    "print(zero_array)\n",
    "\n",
    "# Q6: Create a 5x5 identity matrix\n",
    "identity_matrix = np.eye(5)\n",
    "print(\"5x5 Identity Matrix:\")\n",
    "print(identity_matrix)\n"
   ]
  }
 ],
 "metadata": {
  "kernelspec": {
   "display_name": "Python 3 (ipykernel)",
   "language": "python",
   "name": "python3"
  },
  "language_info": {
   "codemirror_mode": {
    "name": "ipython",
    "version": 3
   },
   "file_extension": ".py",
   "mimetype": "text/x-python",
   "name": "python",
   "nbconvert_exporter": "python",
   "pygments_lexer": "ipython3",
   "version": "3.10.8"
  }
 },
 "nbformat": 4,
 "nbformat_minor": 5
}
